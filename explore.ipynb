{
 "cells": [
  {
   "cell_type": "code",
   "execution_count": 1,
   "metadata": {},
   "outputs": [],
   "source": [
    "import matplotlib\n",
    "matplotlib.use('Agg')\n",
    "from matplotlib import pyplot as plt\n",
    "import os\n",
    "from dataset import *\n",
    "from vladder import VLadder\n",
    "from visualize import *"
   ]
  },
  {
   "cell_type": "code",
   "execution_count": 2,
   "metadata": {},
   "outputs": [
    {
     "name": "stdout",
     "output_type": "stream",
     "text": [
      "WARNING:tensorflow:From /mnt/c/Users/Michael/Documents/Variational-Ladder-Autoencoder/dataset/dataset_mnist.py:12: read_data_sets (from tensorflow.contrib.learn.python.learn.datasets.mnist) is deprecated and will be removed in a future version.\n",
      "Instructions for updating:\n",
      "Please use alternatives such as official/mnist/dataset.py from tensorflow/models.\n",
      "WARNING:tensorflow:From /home/mlko53/.local/lib/python3.5/site-packages/tensorflow/contrib/learn/python/learn/datasets/mnist.py:260: maybe_download (from tensorflow.contrib.learn.python.learn.datasets.base) is deprecated and will be removed in a future version.\n",
      "Instructions for updating:\n",
      "Please write your own downloading logic.\n",
      "WARNING:tensorflow:From /home/mlko53/.local/lib/python3.5/site-packages/tensorflow/contrib/learn/python/learn/datasets/mnist.py:262: extract_images (from tensorflow.contrib.learn.python.learn.datasets.mnist) is deprecated and will be removed in a future version.\n",
      "Instructions for updating:\n",
      "Please use tf.data to implement this functionality.\n",
      "Extracting /mnt/c/Users/Michael/Documents/Variational-Ladder-Autoencoder/dataset/MNIST_data/train-images-idx3-ubyte.gz\n",
      "WARNING:tensorflow:From /home/mlko53/.local/lib/python3.5/site-packages/tensorflow/contrib/learn/python/learn/datasets/mnist.py:267: extract_labels (from tensorflow.contrib.learn.python.learn.datasets.mnist) is deprecated and will be removed in a future version.\n",
      "Instructions for updating:\n",
      "Please use tf.data to implement this functionality.\n",
      "Extracting /mnt/c/Users/Michael/Documents/Variational-Ladder-Autoencoder/dataset/MNIST_data/train-labels-idx1-ubyte.gz\n",
      "WARNING:tensorflow:From /home/mlko53/.local/lib/python3.5/site-packages/tensorflow/contrib/learn/python/learn/datasets/mnist.py:110: dense_to_one_hot (from tensorflow.contrib.learn.python.learn.datasets.mnist) is deprecated and will be removed in a future version.\n",
      "Instructions for updating:\n",
      "Please use tf.one_hot on tensors.\n",
      "Extracting /mnt/c/Users/Michael/Documents/Variational-Ladder-Autoencoder/dataset/MNIST_data/t10k-images-idx3-ubyte.gz\n",
      "Extracting /mnt/c/Users/Michael/Documents/Variational-Ladder-Autoencoder/dataset/MNIST_data/t10k-labels-idx1-ubyte.gz\n",
      "WARNING:tensorflow:From /home/mlko53/.local/lib/python3.5/site-packages/tensorflow/contrib/learn/python/learn/datasets/mnist.py:290: DataSet.__init__ (from tensorflow.contrib.learn.python.learn.datasets.mnist) is deprecated and will be removed in a future version.\n",
      "Instructions for updating:\n",
      "Please use alternatives such as official/mnist/dataset.py from tensorflow/models.\n",
      "INFO:tensorflow:Restoring parameters from models/vladder_mnist/vladder_mnist.ckpt\n",
      "Successfully restored model\n"
     ]
    }
   ],
   "source": [
    "dataset = MnistDataset()\n",
    "model = VLadder(dataset, name='', reg='kl', batch_size=100, restart=False)"
   ]
  },
  {
   "cell_type": "code",
   "execution_count": 3,
   "metadata": {},
   "outputs": [],
   "source": [
    "class ConditionalManifoldSampleVisualizer(Visualizer):\n",
    "    def __init__(self, network, dataset):\n",
    "        Visualizer.__init__(self, network)\n",
    "        self.dataset = dataset\n",
    "        self.name = \"conditional_manifold_samples\"\n",
    "        \n",
    "    def visualize(self, layers, num_rows=4, use_gui=False):\n",
    "        if use_gui and self.fig is None:\n",
    "            self.fig, self.ax = plt.subplots(1, len(layers))\n",
    "        self.latent_code = self.network.random_latent_code()\n",
    "        \n",
    "        canvas_list = []\n",
    "        for i, layer in enumerate(layers):\n",
    "            samples = np.zeros([num_rows*num_rows]+self.dataset.data_dims)\n",
    "            samples_ptr = 0\n",
    "            layer_latent_code_x = np.tile(np.reshape(np.linspace(-2.0, 2.0, num=num_rows), (1, num_rows)), (num_rows, 1))\n",
    "            layer_latent_code_y = layer_latent_code_x.transpose()\n",
    "            layer_latent_code = np.reshape(np.stack([layer_latent_code_x, layer_latent_code_y], axis=-1), (-1, 2))\n",
    "            while samples_ptr < num_rows * num_rows:\n",
    "                new_samples = self.network.generate_conditional_manifold_samples(layer, layer_latent_code[samples_ptr:samples_ptr+8], self.latent_code)\n",
    "                next_ptr = samples_ptr + 8\n",
    "                if next_ptr > num_rows * num_rows:\n",
    "                    next_ptr = num_rows * num_rows\n",
    "\n",
    "                samples[samples_ptr:next_ptr] = new_samples\n",
    "                samples_ptr = next_ptr\n",
    "\n",
    "            # Plot the samples in a grid\n",
    "            if samples is not None:\n",
    "                samples = self.dataset.display(samples)\n",
    "                width = samples.shape[1]\n",
    "                height = samples.shape[2]\n",
    "                channel = samples.shape[3]\n",
    "                canvas = np.zeros((width * num_rows, height * num_rows, channel))\n",
    "                for img_index1 in range(num_rows):\n",
    "                    for img_index2 in range(num_rows):\n",
    "                        canvas[img_index1 * width:(img_index1 + 1) * width,\n",
    "                            img_index2 * height:(img_index2 + 1) * height, :] = \\\n",
    "                            samples[img_index1 * num_rows + img_index2, :, :, :]\n",
    "                if use_gui:\n",
    "                    self.ax[i].cla()\n",
    "                    if channel == 1:\n",
    "                        self.ax[i].imshow(canvas[:, :, 0], cmap=plt.get_cmap('Greys'))\n",
    "                    else:\n",
    "                        self.ax[i].imshow(canvas)\n",
    "                    self.ax[i].xaxis.set_visible(False)\n",
    "                    self.ax[i].yaxis.set_visible(False)\n",
    "                if i != 0:\n",
    "                    if canvas.shape[-1] == 1:\n",
    "                        canvas_list.append(np.zeros((width * num_rows, 20, channel)))\n",
    "                    else:\n",
    "                        canvas_list.append(np.ones((width * num_rows, 20, channel)))\n",
    "                canvas_list.append(canvas)\n",
    "            else:\n",
    "                print(\"Warning: no samples generated during visualization\")\n",
    "        # np.save('samples', canvas)\n",
    "        canvas = np.concatenate(canvas_list, axis=1)\n",
    "        self.arr_to_file(canvas)\n",
    "        if use_gui:\n",
    "            self.fig.suptitle('Conditional Samples for %s' % self.network.name)\n",
    "            plt.draw()\n",
    "            plt.pause(0.01)"
   ]
  },
  {
   "cell_type": "code",
   "execution_count": 9,
   "metadata": {},
   "outputs": [],
   "source": [
    "sampler_visualizer = ConditionalManifoldSampleVisualizer(model, dataset)"
   ]
  },
  {
   "cell_type": "code",
   "execution_count": 10,
   "metadata": {},
   "outputs": [],
   "source": [
    "layers = [layer for layer in model.random_latent_code()]\n",
    "layers.sort()\n",
    "sampler_visualizer.visualize(layers, 32)"
   ]
  }
 ],
 "metadata": {
  "kernelspec": {
   "display_name": "Python 3",
   "language": "python",
   "name": "python3"
  },
  "language_info": {
   "codemirror_mode": {
    "name": "ipython",
    "version": 3
   },
   "file_extension": ".py",
   "mimetype": "text/x-python",
   "name": "python",
   "nbconvert_exporter": "python",
   "pygments_lexer": "ipython3",
   "version": "3.5.2"
  }
 },
 "nbformat": 4,
 "nbformat_minor": 2
}
